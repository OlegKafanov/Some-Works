{
 "cells": [
  {
   "cell_type": "markdown",
   "metadata": {},
   "source": [
    "Задача: <br> Для каждого знака препинания из тестовой выборки предсказать, является ли он концом предложения. "
   ]
  },
  {
   "cell_type": "code",
   "execution_count": 1,
   "metadata": {
    "collapsed": true
   },
   "outputs": [],
   "source": [
    "import pandas as pd\n",
    "import numpy as np\n",
    "import json\n",
    "import io\n",
    "import re\n",
    "from collections import Counter\n",
    "from sklearn.preprocessing import OneHotEncoder\n",
    "from sklearn.model_selection import train_test_split"
   ]
  },
  {
   "cell_type": "code",
   "execution_count": 2,
   "metadata": {},
   "outputs": [
    {
     "name": "stdout",
     "output_type": "stream",
     "text": [
      "['', '/home/fox/anaconda2/lib/python27.zip', '/home/fox/anaconda2/lib/python2.7', '/home/fox/anaconda2/lib/python2.7/plat-linux2', '/home/fox/anaconda2/lib/python2.7/lib-tk', '/home/fox/anaconda2/lib/python2.7/lib-old', '/home/fox/anaconda2/lib/python2.7/lib-dynload', '/home/fox/.local/lib/python2.7/site-packages', '/home/fox/anaconda2/lib/python2.7/site-packages', '/home/fox/gym', '/home/fox/anaconda2/lib/python2.7/site-packages/IPython/extensions', '/home/fox/.ipython', '/usr/local/lib/python2.7/dist-packages/']\n"
     ]
    },
    {
     "name": "stderr",
     "output_type": "stream",
     "text": [
      "/home/fox/anaconda2/lib/python2.7/site-packages/sklearn/cross_validation.py:41: DeprecationWarning: This module was deprecated in version 0.18 in favor of the model_selection module into which all the refactored classes and functions are moved. Also note that the interface of the new CV iterators are different from that of this module. This module will be removed in 0.20.\n",
      "  \"This module will be removed in 0.20.\", DeprecationWarning)\n"
     ]
    }
   ],
   "source": [
    "import sys \n",
    "sys.path\n",
    "\n",
    "sys.path.append(\"/usr/local/lib/python2.7/dist-packages/\")\n",
    "#'/usr/local/lib/python2.7/dist-packages'\n",
    "print sys.path\n",
    "import xgboost as xgb"
   ]
  },
  {
   "cell_type": "code",
   "execution_count": 3,
   "metadata": {
    "collapsed": true
   },
   "outputs": [],
   "source": [
    "train_data = []\n",
    "with io.open('train_data.json','r',encoding='utf8') as f:\n",
    "    for line in f.readlines():\n",
    "        d = json.loads(line)\n",
    "        train_data.append(d)"
   ]
  },
  {
   "cell_type": "code",
   "execution_count": 4,
   "metadata": {
    "collapsed": true
   },
   "outputs": [],
   "source": [
    "test_data = []\n",
    "with io.open('test_data.json','r',encoding='utf8') as f:\n",
    "    for line in f.readlines():\n",
    "        d = json.loads(line)\n",
    "        test_data.append(d)"
   ]
  },
  {
   "cell_type": "code",
   "execution_count": 5,
   "metadata": {
    "collapsed": true
   },
   "outputs": [],
   "source": [
    "end_of_sentences = set()\n",
    "for paragraph in train_data:\n",
    "    for sentence in paragraph['Sentences']:\n",
    "        end_of_sentences.add(sentence[-1])"
   ]
  },
  {
   "cell_type": "code",
   "execution_count": 6,
   "metadata": {},
   "outputs": [
    {
     "name": "stdout",
     "output_type": "stream",
     "text": [
      "!\n",
      "\"\n",
      "…\n",
      ".\n",
      "»\n",
      "?\n"
     ]
    }
   ],
   "source": [
    "for symbol in end_of_sentences:\n",
    "    print(symbol)"
   ]
  },
  {
   "cell_type": "code",
   "execution_count": 7,
   "metadata": {
    "collapsed": true
   },
   "outputs": [],
   "source": [
    "end_of_sentences_list = []\n",
    "for paragraph in train_data:\n",
    "    for sentence in paragraph['Sentences']:\n",
    "        end_of_sentences_list += [sentence[-1]]"
   ]
  },
  {
   "cell_type": "code",
   "execution_count": 8,
   "metadata": {},
   "outputs": [
    {
     "name": "stdout",
     "output_type": "stream",
     "text": [
      "! 1747\n",
      "\" 69\n",
      "… 931\n",
      ". 61167\n",
      "» 313\n",
      "? 2591\n"
     ]
    }
   ],
   "source": [
    "counter = Counter(end_of_sentences_list)\n",
    "for i in counter:\n",
    "    print i, counter[i]\n"
   ]
  },
  {
   "cell_type": "code",
   "execution_count": 9,
   "metadata": {
    "collapsed": true
   },
   "outputs": [],
   "source": [
    "good_ends = [u'!', u'…', u'.', u'?']"
   ]
  },
  {
   "cell_type": "markdown",
   "metadata": {},
   "source": [
    "## train_data приводим в форму test_data"
   ]
  },
  {
   "cell_type": "code",
   "execution_count": 10,
   "metadata": {
    "collapsed": true
   },
   "outputs": [],
   "source": [
    "k = 0\n",
    "Index = 0\n",
    "train_reform = []\n",
    "for k in range(len(train_data)):\n",
    "    pos = - 1\n",
    "    true_positions = []\n",
    "    for sent in train_data[k][u'Sentences']:\n",
    "        pos += len(sent) \n",
    "        true_positions += [pos]\n",
    "        pos += 1\n",
    "\n",
    "    string = train_data[k]['Paragraph']\n",
    "    Marks = []\n",
    "    positions = []\n",
    "    pos = 0\n",
    "    for i in re.findall(re.compile(u'[!\"…\\.»?]', re.U), string):\n",
    "        pos = string.find(i, pos + 1, len(string))\n",
    "        positions += [pos]\n",
    "    for pos in positions:\n",
    "        Index += 1\n",
    "        if pos in true_positions:\n",
    "            label = True\n",
    "        else:\n",
    "            label = False\n",
    "        Marks += [{u'Index': Index, u'Pos': pos, u'Mark': string[pos], u'label': label}]\n",
    "    train_reform += [{'Paragraph': string, 'Marks': Marks}]\n",
    "    "
   ]
  },
  {
   "cell_type": "code",
   "execution_count": 11,
   "metadata": {},
   "outputs": [
    {
     "data": {
      "text/plain": [
       "[{'Marks': [{u'Index': 1, u'Mark': u'\\xbb', u'Pos': 29, u'label': False},\n",
       "   {u'Index': 2, u'Mark': u'.', u'Pos': 84, u'label': True},\n",
       "   {u'Index': 3, u'Mark': u'\\xbb', u'Pos': 135, u'label': False},\n",
       "   {u'Index': 4, u'Mark': u'.', u'Pos': 136, u'label': True},\n",
       "   {u'Index': 5, u'Mark': u'\\u2026', u'Pos': 193, u'label': False},\n",
       "   {u'Index': 6, u'Mark': u'\\xbb', u'Pos': 194, u'label': False},\n",
       "   {u'Index': 7, u'Mark': u'\\xbb', u'Pos': 215, u'label': False},\n",
       "   {u'Index': 8, u'Mark': u'\\xbb', u'Pos': 281, u'label': False},\n",
       "   {u'Index': 9, u'Mark': u'\\xbb', u'Pos': 329, u'label': False},\n",
       "   {u'Index': 10, u'Mark': u'.', u'Pos': 375, u'label': True}],\n",
       "  'Paragraph': u'\\u0412\\u0435\\u043b\\u0438\\u043a\\u043e\\u043b\\u0435\\u043f\\u043d\\u0430\\u044f \\xab\\u0428\\u043a\\u043e\\u043b\\u0430 \\u0437\\u043b\\u043e\\u0441\\u043b\\u043e\\u0432\\u0438\\u044f\\xbb \\u0432\\u0435\\u0440\\u043d\\u0443\\u043b\\u0430\\u0441\\u044c \\u0432 \\u044d\\u0444\\u0438\\u0440 \\u043f\\u043e\\u0441\\u043b\\u0435 \\u043b\\u0435\\u0442\\u043d\\u0438\\u0445 \\u043a\\u0430\\u043d\\u0438\\u043a\\u0443\\u043b \\u0432 \\u043d\\u043e\\u0432\\u043e\\u043c \\u0444\\u043e\\u0440\\u043c\\u0430\\u0442\\u0435. \\u0412 \\u0438\\u0441\\u0442\\u043e\\u0440\\u0438\\u0438 \\u043f\\u0440\\u043e\\u0433\\u0440\\u0430\\u043c\\u043c\\u044b \\u044d\\u0442\\u043e \\u0443\\u0436\\u0435 \\u043d\\u0435 \\u043f\\u0435\\u0440\\u0432\\u044b\\u0439 \\xab\\u0440\\u0435\\u0431\\u0440\\u0435\\u043d\\u0434\\u0438\\u043d\\u0433\\xbb. \\u0421\\u0435\\u0439\\u0447\\u0430\\u0441 \\u0441 \\u0442\\u0440\\u0443\\u0434\\u043e\\u043c \\u043c\\u043e\\u0436\\u043d\\u043e \\u043f\\u0440\\u0438\\u043f\\u043e\\u043c\\u043d\\u0438\\u0442\\u044c, \\u0447\\u0442\\u043e \\u043d\\u0430\\u0447\\u0438\\u043d\\u0430\\u043b\\u0430\\u0441\\u044c \\xab\\u0428\\u043a\\u043e\\u043b\\u0430\\u2026\\xbb \\u043d\\u0430 \\u043a\\u0430\\u043d\\u0430\\u043b\\u0435 \\xab\\u041a\\u0443\\u043b\\u044c\\u0442\\u0443\\u0440\\u0430\\xbb \\u043a\\u0430\\u043a \\u0441\\u0442\\u0430\\u043d\\u0434\\u0430\\u0440\\u0442\\u043d\\u043e\\u0435 \\u0442\\u043e\\u043a-\\u0448\\u043e\\u0443, \\u043a\\u043e\\u0442\\u043e\\u0440\\u043e\\u0435 \\u043e\\u0442\\u043b\\u0438\\u0447\\u0430\\u043b\\u043e\\u0441\\u044c \\u043e\\u0442 \\u0434\\u0440\\u0443\\u0433\\u0438\\u0445 \\xab\\u043a\\u0443\\u0445\\u043e\\u043d\\u043d\\u044b\\u043c\\u0438\\xbb \\u043e\\u0431\\u0441\\u0443\\u0436\\u0434\\u0435\\u043d\\u0438\\u044f\\u043c\\u0438 \\u0433\\u043e\\u0441\\u0442\\u044f, \\u0447\\u0442\\u043e \\u043d\\u0430\\u0437\\u044b\\u0432\\u0430\\u0435\\u0442\\u0441\\u044f \\u2013 \\xab\\u0437\\u0430 \\u0433\\u043b\\u0430\\u0437\\u0430\\xbb, \\u0438 \\u043d\\u0435\\u043e\\u0436\\u0438\\u0434\\u0430\\u043d\\u043d\\u044b\\u043c\\u0438 \\u043f\\u0435\\u0440\\u0441\\u043e\\u043d\\u0430\\u043c\\u0438 \\u0432 \\u043a\\u0430\\u0447\\u0435\\u0441\\u0442\\u0432\\u0435 \\u0432\\u0435\\u0434\\u0443\\u0449\\u0438\\u0445.'}]"
      ]
     },
     "execution_count": 11,
     "metadata": {},
     "output_type": "execute_result"
    }
   ],
   "source": [
    "train_reform[:1]"
   ]
  },
  {
   "cell_type": "markdown",
   "metadata": {},
   "source": [
    "## Extraxt features"
   ]
  },
  {
   "cell_type": "code",
   "execution_count": 12,
   "metadata": {
    "collapsed": true
   },
   "outputs": [],
   "source": [
    "def prepare_to_onehot(data):\n",
    "    X = []\n",
    "    k = 0\n",
    "    for i in data:\n",
    "        k += 1\n",
    "        for Mark in i['Marks']:\n",
    "            x = []\n",
    "            for char in i['Paragraph'][Mark['Pos'] - 4: Mark['Pos'] + 6]:\n",
    "                x += [ord(char)]\n",
    "            \n",
    "            if len(x) < 10:\n",
    "                if len(x):\n",
    "                    for j in range(10 - len(x)):\n",
    "                        x += [0]\n",
    "                else:\n",
    "                    x = [0,0,0,0,0,0,0,0,0,0]\n",
    "            X += [x]\n",
    "    return X"
   ]
  },
  {
   "cell_type": "code",
   "execution_count": 13,
   "metadata": {
    "collapsed": true
   },
   "outputs": [],
   "source": [
    "enc = OneHotEncoder()\n",
    "def extract_features(data):\n",
    "    X = []\n",
    "    for j in data:\n",
    "        \n",
    "        for i in j['Marks']:\n",
    "            x = []\n",
    "            ############### 0\n",
    "            if i['Mark'] in good_ends:\n",
    "                x += [1]\n",
    "            else:\n",
    "                x += [0]\n",
    "            '''\n",
    "            ############### 0.1\n",
    "            if len(j['Paragraph']) > i['Pos'] + 1:\n",
    "                #print j['Paragraph'][i['Pos'] - 3 : i['Pos'] + 3]\n",
    "                if re.findall(re.compile(u'[а-я|ё]\\. [А-Я|Ё][^\\.]', re.U), \n",
    "                j['Paragraph'][i['Pos'] - 3 : i['Pos'] + 4]):\n",
    "                    x += [1]\n",
    "                else:\n",
    "                    x += [0]\n",
    "            else:\n",
    "                x += [1]\n",
    "            '''\n",
    "            ############### 0.1\n",
    "            if len(j['Paragraph']) - 1 == i['Pos']:\n",
    "                x += [1]\n",
    "            else:\n",
    "                x += [0]\n",
    "            ############### 0.2\n",
    "            if len(j['Paragraph']) > i['Pos'] + 1:\n",
    "                #print j['Paragraph'][i['Pos'] - 3 : i['Pos'] + 3]\n",
    "                if re.findall(re.compile(u'\\.\\.\\. ', re.U), j['Paragraph'][i['Pos'] - 3 : i['Pos'] + 4]):\n",
    "                    x += [1]\n",
    "                else:\n",
    "                    x += [0]\n",
    "            else:\n",
    "                x += [1]\n",
    "            ############### 0.3\n",
    "            if len(j['Paragraph']) > i['Pos'] + 1:\n",
    "                #print j['Paragraph'][i['Pos'] - 3 : i['Pos'] + 3]\n",
    "                if re.findall(re.compile(u'[а-я|]\\)\\. [А-Я|Ё][^\\.]', re.U), \n",
    "                              j['Paragraph'][i['Pos'] - 3 : i['Pos'] + 4]):\n",
    "                    x += [1]\n",
    "                else:\n",
    "                    x += [0]\n",
    "            else:\n",
    "                x += [1]\n",
    "            ############### 1\n",
    "            if len(j['Paragraph']) > i['Pos'] + 1:\n",
    "                #print j['Paragraph'][i['Pos'] - 3 : i['Pos'] + 3]\n",
    "                if re.findall(re.compile(u'[А-Я|Ё]\\. [А-Я|Ё][^\\.]', re.U), \n",
    "                              j['Paragraph'][i['Pos'] - 3 : i['Pos'] + 4]):\n",
    "                    x += [1]\n",
    "                else:\n",
    "                    x += [0]\n",
    "            else:\n",
    "                x += [1]\n",
    "            ################ 2\n",
    "            if len(j['Paragraph']) > i['Pos'] + 1:\n",
    "                if re.findall(re.compile(u'[\\.!?\"»…] [А-Я|Ё][^\\.]', re.U), \n",
    "                              j['Paragraph'][i['Pos'] - 3 : i['Pos'] + 4]):\n",
    "                    x += [1]\n",
    "                else:\n",
    "                    x += [0]\n",
    "            else:\n",
    "                x += [1]\n",
    "            ################ 3\n",
    "            if len(j['Paragraph']) > i['Pos'] + 1:\n",
    "                if re.findall(re.compile(u'[А-Я|Ё][а-я|ё]\\. [А-Я|Ё][^\\.]', re.U), \n",
    "                              j['Paragraph'][i['Pos'] - 3 : i['Pos'] + 4]):\n",
    "                    x += [1]\n",
    "                else:\n",
    "                    x += [0]\n",
    "            else:\n",
    "                x += [0]\n",
    "            ################ 4\n",
    "            if len(j['Paragraph']) > i['Pos'] + 1:\n",
    "                if re.findall(re.compile(u'[А-Я|Ё]\\.[А-Я|Ё]\\. [А-Я|Ё][^\\.]', re.U), \n",
    "                              j['Paragraph'][i['Pos'] - 5 : i['Pos'] + 6]):\n",
    "                    x += [1]\n",
    "                else:\n",
    "                    x += [0]\n",
    "            else:\n",
    "                x += [0]\n",
    "            \n",
    "            ################ 5\n",
    "            if len(j['Paragraph']) > i['Pos'] + 1:\n",
    "                if re.findall(re.compile(u' г\\.', re.U), j['Paragraph'][i['Pos'] - 3 : i['Pos'] + 4]):\n",
    "                    x += [1]\n",
    "                else:\n",
    "                    x += [0]\n",
    "            else:\n",
    "                x += [0]\n",
    "            ################ 6\n",
    "            if len(j['Paragraph']) > i['Pos'] + 1:\n",
    "                if re.findall(re.compile(u'гг\\.', re.U), j['Paragraph'][i['Pos'] - 3 : i['Pos'] + 4]):\n",
    "                    x += [1]\n",
    "                else:\n",
    "                    x += [0]\n",
    "            else:\n",
    "                x += [0]\n",
    "            ################ 7\n",
    "            if len(j['Paragraph']) > i['Pos'] + 1:\n",
    "                if re.findall(re.compile(u'т\\.д\\.', re.U), j['Paragraph'][i['Pos'] - 3 : i['Pos'] + 4]):\n",
    "                    x += [1]\n",
    "                else:\n",
    "                    x += [0]\n",
    "            else:\n",
    "                x += [0]\n",
    "            ################ 8\n",
    "            if len(j['Paragraph']) > i['Pos'] + 1:\n",
    "                if re.findall(re.compile(u'т\\.к\\.', re.U), j['Paragraph'][i['Pos'] - 3 : i['Pos'] + 4]):\n",
    "                    x += [1]\n",
    "                else:\n",
    "                    x += [0]\n",
    "            else:\n",
    "                x += [0]\n",
    "            ################ 9\n",
    "            if len(j['Paragraph']) > i['Pos'] + 1:\n",
    "                if re.findall(re.compile(u'т\\.п\\.', re.U), j['Paragraph'][i['Pos'] - 3 : i['Pos'] + 4]):\n",
    "                    x += [1]\n",
    "                else:\n",
    "                    x += [0]\n",
    "            else:\n",
    "                x += [0]\n",
    "            ################ 10\n",
    "            if len(j['Paragraph']) > i['Pos'] + 1:\n",
    "                if re.findall(re.compile(u'т\\.е\\.', re.U), j['Paragraph'][i['Pos'] - 3 : i['Pos'] + 4]):\n",
    "                    x += [1]\n",
    "                else:\n",
    "                    x += [0]\n",
    "            else:\n",
    "                x += [0]\n",
    "            ################ 11\n",
    "            if len(j['Paragraph']) > i['Pos'] + 1:\n",
    "                if re.findall(re.compile(u'н\\.\\э.', re.U), j['Paragraph'][i['Pos'] - 3 : i['Pos'] + 4]):\n",
    "                    x += [1]\n",
    "                else:\n",
    "                    x += [0]\n",
    "            else:\n",
    "                x += [0]\n",
    "            ################ 12\n",
    "            if len(j['Paragraph']) > i['Pos'] + 1:\n",
    "                if re.findall(re.compile(u'вв\\.', re.U), j['Paragraph'][i['Pos'] - 3 : i['Pos'] + 4]):\n",
    "                    x += [1]\n",
    "                else:\n",
    "                    x += [0]\n",
    "            else:\n",
    "                x += [0]\n",
    "            ################ 13\n",
    "            if len(j['Paragraph']) > i['Pos'] + 1:\n",
    "                if re.findall(re.compile(u' в\\.', re.U), j['Paragraph'][i['Pos'] - 3 : i['Pos'] + 4]):\n",
    "                    x += [1]\n",
    "                else:\n",
    "                    x += [0]\n",
    "            else:\n",
    "                x += [0]\n",
    "            ################ 14\n",
    "            if len(j['Paragraph']) > i['Pos'] + 1:\n",
    "                if re.findall(re.compile(u' им\\.', re.U), j['Paragraph'][i['Pos'] - 3 : i['Pos'] + 4]):\n",
    "                    x += [1]\n",
    "                else:\n",
    "                    x += [0]\n",
    "            else:\n",
    "                x += [0]\n",
    "            ################ 15\n",
    "            if len(j['Paragraph']) > i['Pos'] + 1:\n",
    "                if re.findall(re.compile(u' м\\.', re.U), j['Paragraph'][i['Pos'] - 3 : i['Pos'] + 4]):\n",
    "                    x += [1]\n",
    "                else:\n",
    "                    x += [0]\n",
    "            else:\n",
    "                x += [0]\n",
    "            ################ 16\n",
    "            if len(j['Paragraph']) > i['Pos'] + 1:\n",
    "                if re.findall(re.compile(u' ул\\.', re.U), j['Paragraph'][i['Pos'] - 3 : i['Pos'] + 4]):\n",
    "                    x += [1]\n",
    "                else:\n",
    "                    x += [0]\n",
    "            else:\n",
    "                x += [0]\n",
    "            \n",
    "            ################ 17\n",
    "            if len(j['Paragraph']) > i['Pos'] + 1:\n",
    "                if re.findall(re.compile(u'\\.»', re.U), j['Paragraph'][i['Pos'] - 3 : i['Pos'] + 4]):\n",
    "                    x += [1]\n",
    "                else:\n",
    "                    x += [0]\n",
    "            else:\n",
    "                x += [1]\n",
    "            ################ 18\n",
    "            if len(j['Paragraph']) > i['Pos'] + 1:\n",
    "                if re.findall(re.compile(u'…»', re.U), j['Paragraph'][i['Pos'] - 3 : i['Pos'] + 4]):\n",
    "                    x += [1]\n",
    "                else:\n",
    "                    x += [0]\n",
    "            else:\n",
    "                x += [1]\n",
    "            \n",
    "            ################ 19\n",
    "            if len(j['Paragraph']) < 10:\n",
    "                x += [1]    \n",
    "            else:\n",
    "                x += [0]\n",
    "            \n",
    "            \n",
    "            X += [x]\n",
    "            \n",
    "    X = np.array(X)\n",
    "    enc.fit(prepare_to_onehot(train_reform) + prepare_to_onehot(test_data))\n",
    "    \n",
    "    X_2 = prepare_to_onehot(data)\n",
    "    \n",
    "    X_enc = enc.transform(X_2).toarray()\n",
    "    \n",
    "    X_new = []\n",
    "    for i in range(len(X)):\n",
    "        X_new  += [np.append(X[i], X_enc[i])] \n",
    "    X_new = np.array(X_new)\n",
    "    X_enc = X = 0\n",
    "    return X_new\n",
    "     \n",
    "    #return X"
   ]
  },
  {
   "cell_type": "code",
   "execution_count": 14,
   "metadata": {
    "collapsed": true
   },
   "outputs": [],
   "source": [
    "y = []\n",
    "for i in train_reform:\n",
    "    for Mark in i['Marks']:\n",
    "        y += [Mark['label']]"
   ]
  },
  {
   "cell_type": "code",
   "execution_count": 15,
   "metadata": {
    "collapsed": true
   },
   "outputs": [],
   "source": [
    "y = np.array(y)"
   ]
  },
  {
   "cell_type": "code",
   "execution_count": 16,
   "metadata": {
    "collapsed": true,
    "scrolled": true
   },
   "outputs": [],
   "source": [
    "X = np.array(extract_features(train_reform))"
   ]
  },
  {
   "cell_type": "markdown",
   "metadata": {},
   "source": [
    "## Local"
   ]
  },
  {
   "cell_type": "code",
   "execution_count": 17,
   "metadata": {
    "collapsed": true
   },
   "outputs": [],
   "source": [
    "X_train, X_test, y_train, y_test = train_test_split(X, y, test_size=0.33, random_state=0)"
   ]
  },
  {
   "cell_type": "code",
   "execution_count": 18,
   "metadata": {
    "collapsed": true
   },
   "outputs": [],
   "source": [
    "cl = xgb.XGBClassifier(n_estimators=200, base_score=0.5, reg_lambda = 1) "
   ]
  },
  {
   "cell_type": "code",
   "execution_count": 19,
   "metadata": {},
   "outputs": [
    {
     "data": {
      "text/plain": [
       "XGBClassifier(base_score=0.5, colsample_bylevel=1, colsample_bytree=1,\n",
       "       gamma=0, learning_rate=0.1, max_delta_step=0, max_depth=3,\n",
       "       min_child_weight=1, missing=None, n_estimators=200, nthread=-1,\n",
       "       objective='binary:logistic', reg_alpha=0, reg_lambda=1,\n",
       "       scale_pos_weight=1, seed=0, silent=True, subsample=1)"
      ]
     },
     "execution_count": 19,
     "metadata": {},
     "output_type": "execute_result"
    }
   ],
   "source": [
    "cl.fit(X_train, y_train) "
   ]
  },
  {
   "cell_type": "code",
   "execution_count": 20,
   "metadata": {
    "collapsed": true
   },
   "outputs": [],
   "source": [
    "y_predict = cl.predict(X_test)"
   ]
  },
  {
   "cell_type": "code",
   "execution_count": 21,
   "metadata": {
    "collapsed": true
   },
   "outputs": [],
   "source": [
    "from sklearn.metrics import roc_auc_score"
   ]
  },
  {
   "cell_type": "code",
   "execution_count": 22,
   "metadata": {},
   "outputs": [
    {
     "data": {
      "text/plain": [
       "0.98754919842617972"
      ]
     },
     "execution_count": 22,
     "metadata": {},
     "output_type": "execute_result"
    }
   ],
   "source": [
    "roc_auc_score(y_predict, y_test)"
   ]
  },
  {
   "cell_type": "markdown",
   "metadata": {},
   "source": [
    "## To Kaggle"
   ]
  },
  {
   "cell_type": "code",
   "execution_count": 23,
   "metadata": {
    "collapsed": true
   },
   "outputs": [],
   "source": [
    "X_train, y_train = X, y"
   ]
  },
  {
   "cell_type": "code",
   "execution_count": 24,
   "metadata": {
    "collapsed": true
   },
   "outputs": [],
   "source": [
    "X_test = np.array(extract_features(test_data))"
   ]
  },
  {
   "cell_type": "code",
   "execution_count": 25,
   "metadata": {
    "collapsed": true
   },
   "outputs": [],
   "source": [
    "cl = xgb.XGBClassifier(n_estimators=200, base_score=0.5, reg_lambda = 1) "
   ]
  },
  {
   "cell_type": "code",
   "execution_count": 26,
   "metadata": {},
   "outputs": [
    {
     "data": {
      "text/plain": [
       "XGBClassifier(base_score=0.5, colsample_bylevel=1, colsample_bytree=1,\n",
       "       gamma=0, learning_rate=0.1, max_delta_step=0, max_depth=3,\n",
       "       min_child_weight=1, missing=None, n_estimators=200, nthread=-1,\n",
       "       objective='binary:logistic', reg_alpha=0, reg_lambda=1,\n",
       "       scale_pos_weight=1, seed=0, silent=True, subsample=1)"
      ]
     },
     "execution_count": 26,
     "metadata": {},
     "output_type": "execute_result"
    }
   ],
   "source": [
    "cl.fit(X_train, y_train)"
   ]
  },
  {
   "cell_type": "code",
   "execution_count": 27,
   "metadata": {},
   "outputs": [],
   "source": [
    "y_test = cl.predict(X_test)"
   ]
  },
  {
   "cell_type": "code",
   "execution_count": 28,
   "metadata": {
    "collapsed": true
   },
   "outputs": [],
   "source": [
    "result = map(lambda x: 1 if x == True else 0, y_test)"
   ]
  },
  {
   "cell_type": "code",
   "execution_count": 29,
   "metadata": {},
   "outputs": [
    {
     "name": "stdout",
     "output_type": "stream",
     "text": [
      "Counter({1: 17997, 0: 8479})\n"
     ]
    },
    {
     "data": {
      "text/plain": [
       "26476"
      ]
     },
     "execution_count": 29,
     "metadata": {},
     "output_type": "execute_result"
    }
   ],
   "source": [
    "print Counter(result)\n",
    "len(result)"
   ]
  },
  {
   "cell_type": "code",
   "execution_count": 30,
   "metadata": {
    "collapsed": true
   },
   "outputs": [],
   "source": [
    "df = pd.DataFrame(result, columns=['Mark'], index=range(1,26477))\n",
    "df.index.name = 'Id'"
   ]
  },
  {
   "cell_type": "code",
   "execution_count": 32,
   "metadata": {
    "collapsed": true
   },
   "outputs": [],
   "source": [
    "df.to_csv(\"OneHot_XGB_GoodEnds_Submission.csv\")"
   ]
  }
 ],
 "metadata": {
  "kernelspec": {
   "display_name": "Python 2",
   "language": "python",
   "name": "python2"
  },
  "language_info": {
   "codemirror_mode": {
    "name": "ipython",
    "version": 2
   },
   "file_extension": ".py",
   "mimetype": "text/x-python",
   "name": "python",
   "nbconvert_exporter": "python",
   "pygments_lexer": "ipython2",
   "version": "2.7.14"
  }
 },
 "nbformat": 4,
 "nbformat_minor": 2
}
